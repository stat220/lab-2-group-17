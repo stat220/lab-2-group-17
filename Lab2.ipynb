{
 "cells": [
  {
   "metadata": {},
   "cell_type": "markdown",
   "source": "#Lab 2",
   "id": "5fa6a61808753960"
  },
  {
   "metadata": {},
   "cell_type": "markdown",
   "source": "##Deliverable 1, Function A",
   "id": "1c20454ced0d817c"
  },
  {
   "cell_type": "code",
   "id": "initial_id",
   "metadata": {
    "collapsed": true,
    "ExecuteTime": {
     "end_time": "2024-09-23T15:53:28.144703Z",
     "start_time": "2024-09-23T15:53:28.135148Z"
    }
   },
   "source": [
    "import itertools\n",
    "import numpy as np\n",
    "\n",
    "def probabilityFunctionA(m, n, x):\n",
    "    if not (1 <= m <= 4) or not (1 <= n <= 20):\n",
    "        raise ValueError(\"m must be between 1 and 4, and n must be between 1 and 20.\")\n",
    "    \n",
    "    # Generate all possible combinations of dice rolls\n",
    "    rolls = list(itertools.product(range(1, n+1), repeat=m))\n",
    "    \n",
    "    # Calculate sums of each roll\n",
    "    sums = np.array([sum(roll) for roll in rolls])\n",
    "    \n",
    "    # Count how many sums are greater than x\n",
    "    success_count = np.sum(sums > x)\n",
    "    \n",
    "    # Total number of possible rolls\n",
    "    total_rolls = len(rolls)\n",
    "    \n",
    "    # Calculate probability\n",
    "    probability = success_count / total_rolls\n",
    "    \n",
    "    return probability\n",
    "\n",
    "m = 3\n",
    "n = 6\n",
    "x = 6\n",
    "prob = probabilityFunctionA(m, n, x)\n",
    "print(f\"Probability: {prob:.4f}\")\n"
   ],
   "outputs": [
    {
     "name": "stdout",
     "output_type": "stream",
     "text": [
      "Probability: 0.9074\n"
     ]
    }
   ],
   "execution_count": 8
  }
 ],
 "metadata": {
  "kernelspec": {
   "display_name": "Python 3",
   "language": "python",
   "name": "python3"
  },
  "language_info": {
   "codemirror_mode": {
    "name": "ipython",
    "version": 2
   },
   "file_extension": ".py",
   "mimetype": "text/x-python",
   "name": "python",
   "nbconvert_exporter": "python",
   "pygments_lexer": "ipython2",
   "version": "2.7.6"
  }
 },
 "nbformat": 4,
 "nbformat_minor": 5
}
