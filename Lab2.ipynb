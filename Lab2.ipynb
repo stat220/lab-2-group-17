{
 "cells": [
  {
   "metadata": {},
   "cell_type": "markdown",
   "source": "#Lab 2",
   "id": "5fa6a61808753960"
  },
  {
   "metadata": {},
   "cell_type": "markdown",
   "source": "##Deliverable 1, Function A",
   "id": "1c20454ced0d817c"
  },
  {
   "cell_type": "code",
   "id": "initial_id",
   "metadata": {
    "collapsed": true,
    "ExecuteTime": {
     "end_time": "2024-09-23T15:53:28.144703Z",
     "start_time": "2024-09-23T15:53:28.135148Z"
    }
   },
   "source": [
    "import itertools\n",
    "import numpy as np\n",
    "\n",
    "def probabilityFunctionA(m, n, x):\n",
    "    if not (1 <= m <= 4) or not (1 <= n <= 20):\n",
    "        raise ValueError(\"m must be between 1 and 4, and n must be between 1 and 20.\")\n",
    "    \n",
    "    # Generate all possible combinations of dice rolls\n",
    "    rolls = list(itertools.product(range(1, n+1), repeat=m))\n",
    "    \n",
    "    # Calculate sums of each roll\n",
    "    sums = np.array([sum(roll) for roll in rolls])\n",
    "    \n",
    "    # Count how many sums are greater than x\n",
    "    success_count = np.sum(sums > x)\n",
    "    \n",
    "    # Total number of possible rolls\n",
    "    total_rolls = len(rolls)\n",
    "    \n",
    "    # Calculate probability\n",
    "    probability = success_count / total_rolls\n",
    "    \n",
    "    return probability\n",
    "\n",
    "m = 3\n",
    "n = 6\n",
    "x = 6\n",
    "prob = probabilityFunctionA(m, n, x)\n",
    "print(f\"Probability: {prob:.4f}\")\n"
   ],
   "outputs": [
    {
     "name": "stdout",
     "output_type": "stream",
     "text": [
      "Probability: 0.9074\n"
     ]
    }
   ],
   "execution_count": 8
  },
  {
   "metadata": {},
   "cell_type": "markdown",
   "source": "##Deliverable 1, Function B",
   "id": "4916258654ec9377"
  },
  {
   "metadata": {
    "ExecuteTime": {
     "end_time": "2024-09-23T15:59:48.233822Z",
     "start_time": "2024-09-23T15:59:48.225204Z"
    }
   },
   "cell_type": "code",
   "source": [
    "def probabilityFunctionB(m, n, x):\n",
    "    if not (1 <= m <= 4) or not (1 <= n <= 20) or not (1 <= x <= n):\n",
    "        raise ValueError(\"m must be between 1 and 4, n between 1 and 20, and x must be between 1 and n.\")\n",
    "    \n",
    "    # Total possible outcomes (n^m)\n",
    "    total_outcomes = n ** m\n",
    "    \n",
    "    # Unsuccessful outcomes (all dice < x)\n",
    "    if x > 1:\n",
    "        unsuccessful_outcomes = (x - 1) ** m\n",
    "    else:\n",
    "        unsuccessful_outcomes = 0\n",
    "    \n",
    "    # Successful outcomes: at least one die >= x\n",
    "    probability = 1 - (unsuccessful_outcomes / total_outcomes)\n",
    "    \n",
    "    return probability\n",
    "\n",
    "m = 3\n",
    "n = 6\n",
    "x = 5\n",
    "prob = probabilityFunctionB(m, n, x)\n",
    "print(f\"Probability: {prob:.4f}\")\n"
   ],
   "id": "6ee8ff871c3a9c40",
   "outputs": [
    {
     "name": "stdout",
     "output_type": "stream",
     "text": [
      "Probability: 0.7037\n"
     ]
    }
   ],
   "execution_count": 13
  },
  {
   "metadata": {},
   "cell_type": "markdown",
   "source": "##Deliverable 2",
   "id": "96577724bc6734c5"
  },
  {
   "metadata": {
    "ExecuteTime": {
     "end_time": "2024-09-23T16:04:16.820267Z",
     "start_time": "2024-09-23T16:04:16.813435Z"
    }
   },
   "cell_type": "code",
   "source": [
    "#Roll 1d20 and get a result of 17 or more\n",
    "\n",
    "probability1d20 = probabilityFunctionA(1, 20, 16)\n",
    "\n",
    "#Roll 3d4 and get a result of 10 or more\n",
    "\n",
    "probability3d4 = probabilityFunctionA(3, 4, 9)\n",
    "\n",
    "#Roll 4d6 and have at least one dice show a 6\n",
    "\n",
    "probability4d6 = probabilityFunctionB(4, 6, 6)\n",
    "\n",
    "print(\"Probability of scenario 1: \" + str(probability1d20))\n",
    "print(\"Probability of scenario 2: \" + str(probability3d4))\n",
    "print(\"Probability of scenario 3: \" + str(probability4d6))"
   ],
   "id": "f662242d43fbccce",
   "outputs": [
    {
     "name": "stdout",
     "output_type": "stream",
     "text": [
      "Probability of scenario 1: 0.2\n",
      "Probability of scenario 2: 0.15625\n",
      "Probability of scenario 3: 0.5177469135802469\n"
     ]
    }
   ],
   "execution_count": 16
  }
 ],
 "metadata": {
  "kernelspec": {
   "display_name": "Python 3",
   "language": "python",
   "name": "python3"
  },
  "language_info": {
   "codemirror_mode": {
    "name": "ipython",
    "version": 2
   },
   "file_extension": ".py",
   "mimetype": "text/x-python",
   "name": "python",
   "nbconvert_exporter": "python",
   "pygments_lexer": "ipython2",
   "version": "2.7.6"
  }
 },
 "nbformat": 4,
 "nbformat_minor": 5
}
